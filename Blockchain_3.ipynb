{
 "cells": [
  {
   "cell_type": "markdown",
   "id": "feaee6c9",
   "metadata": {},
   "source": [
    "# Streamlining Processes in Educational System Using Blockchain Technology"
   ]
  },
  {
   "cell_type": "markdown",
   "id": "af23674e",
   "metadata": {},
   "source": [
    "## Importing libraries & data"
   ]
  },
  {
   "cell_type": "code",
   "execution_count": 1,
   "id": "a42520eb",
   "metadata": {},
   "outputs": [],
   "source": [
    "#Importing libraries & data\n",
    "import pandas as pd\n",
    "import datetime as dt #For timestamp\n",
    "import hashlib as hl  #Calculating the hash in order to add digital fingerprints to the blocks\n",
    "from flask import Flask, jsonify # Flask is for creating the web app and jsonify is for displaying the blockchain\n",
    "import json # To store data in our blockchain\n",
    "import csv"
   ]
  },
  {
   "cell_type": "code",
   "execution_count": 2,
   "id": "6057d1b8",
   "metadata": {},
   "outputs": [],
   "source": [
    "# Function to convert a CSV to JSON\n",
    "# Takes the file paths as arguments\n",
    "def make_json(csvFilePath, jsonFilePath):\n",
    "     \n",
    "    # create a dictionary\n",
    "    data = {}\n",
    "     \n",
    "    # Open a csv reader called DictReader\n",
    "    with open(csvFilePath, encoding='utf-8') as csvf:\n",
    "        csvReader = csv.DictReader(csvf)\n",
    "         \n",
    "        # Convert each row into a dictionary\n",
    "        # and add it to data\n",
    "        for rows in csvReader:\n",
    "             \n",
    "            # Assuming a column named 'No' to\n",
    "            # be the primary key\n",
    "            key = rows['PRN']\n",
    "            data[key] = rows\n",
    " \n",
    "    # Open a json writer, and use the json.dumps()\n",
    "    # function to dump data\n",
    "    with open(jsonFilePath, 'w', encoding='utf-8') as jsonf:\n",
    "        jsonf.write(json.dumps(data, indent=4))\n",
    "         \n",
    "# Decide the two file paths according to your computer system\n",
    "csvFilePath1 = r'C:/Users/desai/AppData/Local/Programs/Python/Python310/StudentData.csv'\n",
    "jsonFilePath1 = r'C:/Users/desai/AppData/Local/Programs/Python/Python310/StudentData.json'\n",
    "# Call the make_json function\n",
    "make_json(csvFilePath1, jsonFilePath1)\n",
    "\n",
    "with open('C:/Users/desai/AppData/Local/Programs/Python/Python310/StudentData.json') as json_file:\n",
    "    json_data = json.load(json_file)\n",
    "#print(json_data)\n",
    "\n",
    "csvFilePath2 = r'C:/Users/desai/AppData/Local/Programs/Python/Python310/TeachersData.csv'\n",
    "jsonFilePath2 = r'C:/Users/desai/AppData/Local/Programs/Python/Python310/TeachersData.json'\n",
    "make_json(csvFilePath2, jsonFilePath2)\n",
    "with open('C:/Users/desai/AppData/Local/Programs/Python/Python310/TeachersData.json') as json_file2:\n",
    "    json_data2 = json.load(json_file2)\n",
    "\n",
    "csvFilePath3 = r'C:/Users/desai/AppData/Local/Programs/Python/Python310/ResearchData.csv'\n",
    "jsonFilePath3 = r'C:/Users/desai/AppData/Local/Programs/Python/Python310/ResearchData.json'\n",
    "make_json(csvFilePath3, jsonFilePath3)\n",
    "with open('C:/Users/desai/AppData/Local/Programs/Python/Python310/ResearchData.json') as json_file3:\n",
    "    json_data3 = json.load(json_file3)\n",
    "\n",
    "csvFilePath4 = r'C:/Users/desai/AppData/Local/Programs/Python/Python310/AdminData.csv'\n",
    "jsonFilePath4 = r'C:/Users/desai/AppData/Local/Programs/Python/Python310/AdminData.json'\n",
    "make_json(csvFilePath4, jsonFilePath4)\n",
    "with open('C:/Users/desai/AppData/Local/Programs/Python/Python310/AdminData.json') as json_file4:\n",
    "    json_data4 = json.load(json_file4)"
   ]
  },
  {
   "cell_type": "code",
   "execution_count": 8,
   "id": "d36ee48a",
   "metadata": {},
   "outputs": [
    {
     "name": "stdout",
     "output_type": "stream",
     "text": [
      "{'9': {'Name': 'Sanika Chavan', 'PRN': '9', 'Course': 'DSSA', 'ContactNum': '1234567876', 'email-id': 'sanika@gmail.com', 'Address': 'Navi Mumbai, MH', 'Skills': 'Python, SQL, R, ML, Tableau'}, '20': {'Name': 'Manali Lad', 'PRN': '20', 'Course': 'DSSA', 'ContactNum': '1234567875', 'email-id': 'manali@gmail.com', 'Address': 'Wadgaon, Pune', 'Skills': 'Java, SQL, R, ML, Tableau'}, '26': {'Name': 'Nikita Chadha', 'PRN': '26', 'Course': 'DSSA', 'ContactNum': '1234567874', 'email-id': 'nikita@gmail.com', 'Address': 'Hinjewadi, Pune', 'Skills': 'Java, SQL, R, ML, PowerBI'}, '12': {'Name': 'Sarita Kanaka', 'PRN': '12', 'Course': 'DSSA', 'ContactNum': '1234567894', 'email-id': 'sarita@gmail.com', 'Address': 'Kothrud, Pune', 'Skills': 'R, Exce, Python, ML, DL'}}\n"
     ]
    }
   ],
   "source": [
    "print(json_data)"
   ]
  },
  {
   "cell_type": "code",
   "execution_count": 9,
   "id": "cfdf6818",
   "metadata": {},
   "outputs": [
    {
     "name": "stdout",
     "output_type": "stream",
     "text": [
      "{'9': {'PRN': '9', 'Math': '97', 'Stats': '95', 'Python': '97', 'R': '97', 'DL': '97', 'ML': '97', 'Percentage': '96'}, '20': {'PRN': '20', 'Math': '95', 'Stats': '95', 'Python': '95', 'R': '94', 'DL': '94', 'ML': '94', 'Percentage': '94'}, '26': {'PRN': '26', 'Math': '90', 'Stats': '93', 'Python': '93', 'R': '93', 'DL': '93', 'ML': '93', 'Percentage': '93'}}\n"
     ]
    }
   ],
   "source": [
    "print(json_data2)"
   ]
  },
  {
   "cell_type": "code",
   "execution_count": 10,
   "id": "312e6524",
   "metadata": {},
   "outputs": [
    {
     "name": "stdout",
     "output_type": "stream",
     "text": [
      "{'9': {'PRN': '9', 'Author': 'S.Chavan', 'Title': 'News Text Summarization Using NLP', 'Publishing Date': '25/06/2022', 'DOI': 'http//12345'}, '20': {'PRN': '20', 'Author': 'L.Manali', 'Title': 'Airline Sales Prediction ', 'Publishing Date': '24/06/2022', 'DOI': 'http//12344'}, '26': {'PRN': '26', 'Author': 'C.Nikita', 'Title': 'Ukrainne Russia Sentiment Analysis', 'Publishing Date': '23/06/2022', 'DOI': 'http//12343'}}\n"
     ]
    }
   ],
   "source": [
    "print(json_data3)"
   ]
  },
  {
   "cell_type": "code",
   "execution_count": 11,
   "id": "ca401769",
   "metadata": {},
   "outputs": [
    {
     "name": "stdout",
     "output_type": "stream",
     "text": [
      "{'9': {'PRN': '9', 'Fees': '1', 'PrevMksht': '1', 'Aadhar': '1', 'LC': '1', 'BC': '1'}, '20': {'PRN': '20', 'Fees': '1', 'PrevMksht': '1', 'Aadhar': '1', 'LC': '1', 'BC': '1'}, '26': {'PRN': '26', 'Fees': '1', 'PrevMksht': '2', 'Aadhar': '1', 'LC': '2', 'BC': '1'}}\n"
     ]
    }
   ],
   "source": [
    "print(json_data4)"
   ]
  },
  {
   "cell_type": "markdown",
   "id": "175e2b16",
   "metadata": {},
   "source": [
    "## Building the Blockchain"
   ]
  },
  {
   "cell_type": "code",
   "execution_count": 13,
   "id": "abaf0170",
   "metadata": {},
   "outputs": [],
   "source": [
    "class Block:\n",
    "    def __init__(self, id, timestamp, proof, data, parent_hash):\n",
    "        self.id=id\n",
    "        self.timestamp=timestamp\n",
    "        self.data=data\n",
    "        self.parent_hash=parent_hash\n",
    "        self.proof=proof"
   ]
  },
  {
   "cell_type": "code",
   "execution_count": 14,
   "id": "6def99dc",
   "metadata": {},
   "outputs": [
    {
     "name": "stdout",
     "output_type": "stream",
     "text": [
      "[{'id': 1, 'timestamp': '2022-06-24 01:56:03.158960', 'data': 'gen_data', 'parent_hash': '0', 'proof': 1}, {'id': 2, 'timestamp': '2022-06-24 01:56:04.741255', 'data': {'9': {'Name': 'Sanika Chavan', 'PRN': '9', 'Course': 'DSSA', 'ContactNum': '1234567876', 'email-id': 'sanika@gmail.com', 'Address': 'Navi Mumbai, MH', 'Skills': 'Python, SQL, R, ML, Tableau'}, '20': {'Name': 'Manali Lad', 'PRN': '20', 'Course': 'DSSA', 'ContactNum': '1234567875', 'email-id': 'manali@gmail.com', 'Address': 'Wadgaon, Pune', 'Skills': 'Java, SQL, R, ML, Tableau'}, '26': {'Name': 'Nikita Chadha', 'PRN': '26', 'Course': 'DSSA', 'ContactNum': '1234567874', 'email-id': 'nikita@gmail.com', 'Address': 'Hinjewadi, Pune', 'Skills': 'Java, SQL, R, ML, PowerBI'}, '12': {'Name': 'Sarita Kanaka', 'PRN': '12', 'Course': 'DSSA', 'ContactNum': '1234567894', 'email-id': 'sarita@gmail.com', 'Address': 'Kothrud, Pune', 'Skills': 'R, Exce, Python, ML, DL'}}, 'parent_hash': '9a9b7858b4c557c4d621a8aa83ec4b335b57c3e40c0f81a30ba82148a601e983', 'proof': 632238}, {'id': 3, 'timestamp': '2022-06-24 01:56:05.786925', 'data': {'9': {'PRN': '9', 'Math': '97', 'Stats': '95', 'Python': '97', 'R': '97', 'DL': '97', 'ML': '97', 'Percentage': '96'}, '20': {'PRN': '20', 'Math': '95', 'Stats': '95', 'Python': '95', 'R': '94', 'DL': '94', 'ML': '94', 'Percentage': '94'}, '26': {'PRN': '26', 'Math': '90', 'Stats': '93', 'Python': '93', 'R': '93', 'DL': '93', 'ML': '93', 'Percentage': '93'}}, 'parent_hash': '8452d2d281a59b9a45dc2eecc8f11d3fa808af9bc72fc7eef44ecb5630af1235', 'proof': 403091}, {'id': 4, 'timestamp': '2022-06-24 01:56:07.683867', 'data': {'9': {'PRN': '9', 'Author': 'S.Chavan', 'Title': 'News Text Summarization Using NLP', 'Publishing Date': '25/06/2022', 'DOI': 'http//12345'}, '20': {'PRN': '20', 'Author': 'L.Manali', 'Title': 'Airline Sales Prediction ', 'Publishing Date': '24/06/2022', 'DOI': 'http//12344'}, '26': {'PRN': '26', 'Author': 'C.Nikita', 'Title': 'Ukrainne Russia Sentiment Analysis', 'Publishing Date': '23/06/2022', 'DOI': 'http//12343'}}, 'parent_hash': 'f88e40c6db0c3bc7759afe2f78c17d19d81610a183cf10b5b64d90f5c3259d91', 'proof': 714736}, {'id': 5, 'timestamp': '2022-06-24 01:56:08.874991', 'data': {'9': {'PRN': '9', 'Fees': '1', 'PrevMksht': '1', 'Aadhar': '1', 'LC': '1', 'BC': '1'}, '20': {'PRN': '20', 'Fees': '1', 'PrevMksht': '1', 'Aadhar': '1', 'LC': '1', 'BC': '1'}, '26': {'PRN': '26', 'Fees': '1', 'PrevMksht': '2', 'Aadhar': '1', 'LC': '2', 'BC': '1'}}, 'parent_hash': 'ba5b0a14a5c3f004fd61738aa5cdf29100cd266921e34a38019a98fc03826b2f', 'proof': 476581}]\n"
     ]
    }
   ],
   "source": [
    "class Blockchain:\n",
    "    def __init__(self):\n",
    "        a=Block(id=1, timestamp= str(dt.datetime.now()), data= 'gen_data',parent_hash='0', proof=1)\n",
    "        genesis= a.__dict__\n",
    "        self.chain= [genesis]\n",
    "        \n",
    "    def add_block(self, data):    \n",
    "        id=self.chain[-1]['id'] + 1\n",
    "        p=self.chain[-1]\n",
    "        parent_hash= hl.sha256(json.dumps(p).encode()).hexdigest()\n",
    "        proof= Blockchain().POW(self.chain[-1]['proof'])\n",
    "        b=Block(id, str(dt.datetime.now()), proof, data, parent_hash)\n",
    "        block=b.__dict__\n",
    "        self.chain.append(block) #To add the new block to the chain\n",
    "        return block #, proof\n",
    "    \n",
    "    def POW(self, parent_pf):\n",
    "        new_pf= 1        #new proof\n",
    "        check_pf= False  #check proof\n",
    "        \n",
    "        while check_pf is False:\n",
    "            #hash operation\n",
    "            hash_op= hl.sha256(str(new_pf**2 - parent_pf**2).encode()).hexdigest()\n",
    "            \n",
    "            if hash_op[:5]== '00000':\n",
    "                check_pf= True\n",
    "            else:\n",
    "                new_pf+=1\n",
    "        return new_pf\n",
    "    \n",
    "    def hashGenerator(self, block):\n",
    "        return hl.sha256(json.dumps(block).encode()).hexdigest() #'utf-8' #encode, create hash, convert to hexadecimal   \n",
    "    \n",
    "    def check_chain_validity(self, chain):\n",
    "        parent_block= chain[0]\n",
    "        block_index= 1\n",
    "        \n",
    "        #Checking parent hash of every block\n",
    "        while block_index < len(chain):\n",
    "            block= chain[block_index]\n",
    "            if block['parent_hash']!=self.hashGenerator(parent_block):\n",
    "                return False\n",
    "            \n",
    "            #Checking POW for every block\n",
    "            parent_pf= parent_block['proof']\n",
    "            proof= block['proof']\n",
    "            hash_op= hl.sha256(str(proof**2 - parent_pf**2).encode()).hexdigest()\n",
    "            \n",
    "            if hash_op[:5]!= '00000':\n",
    "                return False\n",
    "            #Now, 2nd block will be parent block & new block will be the 3rd block (Hence, we're incrementing):\n",
    "            parent_block= block\n",
    "            block_index+=1\n",
    "        \n",
    "        return True\n",
    "            \n",
    "            \n",
    "bc= Blockchain()\n",
    "bc.add_block(json_data)\n",
    "bc.add_block(json_data2)\n",
    "bc.add_block(json_data3)\n",
    "bc.add_block(json_data4)\n",
    "print(bc.chain)\n",
    "\n",
    "#for block in bc.chain:\n",
    " #   print(block)"
   ]
  },
  {
   "cell_type": "markdown",
   "id": "e67173fe",
   "metadata": {},
   "source": [
    "#### Checking if the chain is valid"
   ]
  },
  {
   "cell_type": "code",
   "execution_count": 15,
   "id": "eb848a33",
   "metadata": {},
   "outputs": [
    {
     "data": {
      "text/plain": [
       "{'message': 'The Blockchain is valid.'}"
      ]
     },
     "execution_count": 15,
     "metadata": {},
     "output_type": "execute_result"
    }
   ],
   "source": [
    "def valid():\n",
    "    valid = bc.check_chain_validity(bc.chain)\n",
    "     \n",
    "    if valid:\n",
    "        response = {'message': 'The Blockchain is valid.'}\n",
    "    else:\n",
    "        response = {'message': 'The Blockchain is not valid.'}\n",
    "    return response\n",
    "\n",
    "valid()"
   ]
  },
  {
   "cell_type": "markdown",
   "id": "5df78884",
   "metadata": {},
   "source": [
    "## Let's see what happens if someone tries to change the data that was originally inserted into the blocks\n",
    "### Here, we'll change the data present in the Skills block of only one student"
   ]
  },
  {
   "cell_type": "code",
   "execution_count": 16,
   "id": "e6e73c91",
   "metadata": {},
   "outputs": [],
   "source": [
    "from cryptography.hazmat.primitives import hashes\n",
    "from cryptography.hazmat.primitives.asymmetric import padding\n",
    "from cryptography.hazmat.backends import default_backend\n",
    "from cryptography.hazmat.primitives.asymmetric import rsa\n",
    "from cryptography.hazmat.primitives import serialization"
   ]
  },
  {
   "cell_type": "markdown",
   "id": "a5b64f82",
   "metadata": {},
   "source": [
    "#### Generating Private key, Public key, signature of the data & verifying using public key"
   ]
  },
  {
   "cell_type": "code",
   "execution_count": 17,
   "id": "a88807c2",
   "metadata": {},
   "outputs": [],
   "source": [
    "#GENERATE_PRIVATE_KEY initially set to False\n",
    "GENERATE_PRIVATE_KEY = False\n",
    "\n",
    "#These are the public & private key files obtained from ubuntu through openssl software\n",
    "#PRIVATE_KEY_FILE=input(\"Enter the path of private key file: \")\n",
    "#PUBLIC_KEY_FILE=input(\"Enter the path of public key file: \")\n",
    "\n",
    "PRIVATE_KEY_FILE = \"C:\\\\Users\\\\desai\\\\Downloads\\\\arjuna_bc_book\\\\hands-on-blockchain-for-python-developers\\\\chapter_01\\\\nelsonkey.pem\"\n",
    "PUBLIC_KEY_FILE = \"C:\\\\Users\\\\desai\\\\Downloads\\\\arjuna_bc_book\\\\hands-on-blockchain-for-python-developers\\\\chapter_01\\\\nelsonkey.pub\"\n",
    "\n",
    "#Converting the Skills json data into json string & encoding to convert to bytes format\n",
    "Students_OrigData = json.dumps(json_data).encode()"
   ]
  },
  {
   "cell_type": "code",
   "execution_count": 18,
   "id": "53a94c42",
   "metadata": {},
   "outputs": [],
   "source": [
    "#Generate private key if you don't have it. If you have it already in a .pem file then use that\n",
    "\n",
    "if GENERATE_PRIVATE_KEY:\n",
    "    private_key = rsa.generate_private_key(public_exponent=65537,\n",
    "                                           key_size=2048,\n",
    "                                           backend=default_backend()\n",
    "                                          )\n",
    "else:\n",
    "    with open(PRIVATE_KEY_FILE, \"rb\") as key_file:\n",
    "        private_key = serialization.load_pem_private_key(key_file.read(), \n",
    "                                                         password=None, \n",
    "                                                         backend=default_backend()\n",
    "                                                        )"
   ]
  },
  {
   "cell_type": "code",
   "execution_count": 19,
   "id": "80d830f1",
   "metadata": {},
   "outputs": [
    {
     "name": "stdout",
     "output_type": "stream",
     "text": [
      "b'YP\\xa4\\xf3\\xfd\\x0c\\x06\\xe7\\xd7\\xa6]\\x07\\xeey\\xf68\\xfb\\xa1op\\x96\\xd5\\xed6\\x19K\\xf8\\xbf\\x87\\x03\\xb2\\xd8\\xbbK\\x99\\x1c\\xa4+\\x91f\\xc5\\t\\xee\\x1f\\xd9\\xae i3|\\xd6\\xf8B\\x8e!\\xf4Da\\xc3\\x8b!r\\xf0\\xb1K\\xbf[\\x18\\xd2\\x8b\\xf9I\\xd8PX\\xf6\\xec\\xf4\\xbc9\\xda\\xdc\\xf2\\x8c\\x14\\xb0\\xd7\\x99! 7\\xd3\\x1d\\x92F\\x1e\\xa2\\xa8\\xb1\\x02\\\\\\x00\\xd2\\x8d\\xb0\\xc2\\xb3\\xbahq\\xf0\\x9fF\\xb4Cn?<\\x81I\\x1d\\xf8\\xa72kpV9'\n"
     ]
    }
   ],
   "source": [
    "#Sign the data with private key\n",
    "\n",
    "signature = private_key.sign(Students_OrigData,\n",
    "                             padding.PSS(mgf=padding.MGF1(hashes.SHA256()),salt_length=padding.PSS.MAX_LENGTH),\n",
    "                             hashes.SHA256()\n",
    "                            )\n",
    "\n",
    "print(signature)"
   ]
  },
  {
   "cell_type": "code",
   "execution_count": 20,
   "id": "0f293e37",
   "metadata": {},
   "outputs": [],
   "source": [
    "#Generate public key from private key if we don't have it in .pub file\n",
    "\n",
    "DERIVE_PUBLIC_KEY_FROM_PRIVATE_KEY = False\n",
    "\n",
    "if DERIVE_PUBLIC_KEY_FROM_PRIVATE_KEY:\n",
    "    public_key = private_key.public_key()\n",
    "else:\n",
    "    with open(PUBLIC_KEY_FILE, \"rb\") as key_file:\n",
    "        public_key = serialization.load_pem_public_key(key_file.read(),\n",
    "                                                       backend=default_backend()\n",
    "                                                      )"
   ]
  },
  {
   "cell_type": "code",
   "execution_count": 21,
   "id": "69dad620",
   "metadata": {},
   "outputs": [],
   "source": [
    "#Verify if the signature matched the original data\n",
    "#Here, it will match since we are giving teh orginal data & original signatue as input\n",
    "\n",
    "public_key.verify(signature,\n",
    "                  Students_OrigData,\n",
    "                  padding.PSS(mgf=padding.MGF1(hashes.SHA256()),salt_length=padding.PSS.MAX_LENGTH),\n",
    "                  hashes.SHA256()\n",
    "                 )"
   ]
  },
  {
   "cell_type": "markdown",
   "id": "74d4cfa6",
   "metadata": {},
   "source": [
    "#### 1) Let's verify using a manipulated data file\n",
    "#### 2) Let's verify using manipulated data as well as a fake signature"
   ]
  },
  {
   "cell_type": "code",
   "execution_count": 22,
   "id": "5cf6e1bc",
   "metadata": {},
   "outputs": [
    {
     "name": "stdout",
     "output_type": "stream",
     "text": [
      "{'9': {'Name': 'Sanika Chavan', 'PRN': '9', 'Course': 'DSSA', 'ContactNum': '1234567876', 'email-id': 'sanika@gmail.com', 'Address': 'Navi Mumbai, MH', 'Skills': 'Python, SQL, R, ML, Tableau'}, '20': {'Name': 'Manali Lad', 'PRN': '20', 'Course': 'DSSA', 'ContactNum': '1234567875', 'email-id': 'manali@gmail.com', 'Address': 'Wadgaon, Pune', 'Skills': 'Java, SQL, R, ML, Tableau'}, '26': {'Name': 'Nikita Chadha', 'PRN': '26', 'Course': 'DSSA', 'ContactNum': '1234567874', 'email-id': 'nikita@gmail.com', 'Address': 'Hinjewadi, Pune', 'Skills': 'Java, SQL, R, ML, PowerBI'}, '12': {'Name': 'Sarita Kanaka', 'PRN': '12', 'Course': 'DSSA', 'ContactNum': '1234567894', 'email-id': 'sarita@gmail.com', 'Address': 'Kothrud, Pune', 'Skills': ''}}\n"
     ]
    }
   ],
   "source": [
    "#This is the same Students csv data with slight manipulation. The skills of Student with PRN 12 are being left blank\n",
    "\n",
    "csvFilePath3 = r'C:\\\\Users\\\\desai\\\\AppData\\\\Local\\\\Programs\\\\Python\\\\Python310\\\\Manipulated_StudentsData.csv'\n",
    "jsonFilePath3 = r'C:\\\\Users\\\\desai\\\\AppData\\\\Local\\\\Programs\\\\Python\\\\Python310\\\\Manipulated_StudentsData.json'\n",
    "make_json(csvFilePath3, jsonFilePath3)\n",
    "\n",
    "with open('C:\\\\Users\\\\desai\\\\AppData\\\\Local\\\\Programs\\\\Python\\\\Python310\\\\Manipulated_StudentsData.json') as json_file3:\n",
    "    json_data3 = json.load(json_file3)\n",
    "\n",
    "print(json_data3)"
   ]
  },
  {
   "cell_type": "code",
   "execution_count": 24,
   "id": "31e3db58",
   "metadata": {},
   "outputs": [
    {
     "ename": "InvalidSignature",
     "evalue": "",
     "output_type": "error",
     "traceback": [
      "\u001b[1;31m---------------------------------------------------------------------------\u001b[0m",
      "\u001b[1;31mInvalidSignature\u001b[0m                          Traceback (most recent call last)",
      "\u001b[1;32m~\\AppData\\Local\\Temp/ipykernel_2768/3452817965.py\u001b[0m in \u001b[0;36m<module>\u001b[1;34m\u001b[0m\n\u001b[0;32m     10\u001b[0m         backend=default_backend())\n\u001b[0;32m     11\u001b[0m \u001b[1;33m\u001b[0m\u001b[0m\n\u001b[1;32m---> 12\u001b[1;33m public_key.verify(\n\u001b[0m\u001b[0;32m     13\u001b[0m  \u001b[0mcorrect_signature\u001b[0m\u001b[1;33m,\u001b[0m\u001b[1;33m\u001b[0m\u001b[1;33m\u001b[0m\u001b[0m\n\u001b[0;32m     14\u001b[0m  \u001b[0mStudents_ManipulatedData\u001b[0m\u001b[1;33m,\u001b[0m\u001b[1;33m\u001b[0m\u001b[1;33m\u001b[0m\u001b[0m\n",
      "\u001b[1;32m~\\anaconda3\\envs\\envmt1\\lib\\site-packages\\cryptography\\hazmat\\backends\\openssl\\rsa.py\u001b[0m in \u001b[0;36mverify\u001b[1;34m(self, signature, data, padding, algorithm)\u001b[0m\n\u001b[0;32m    548\u001b[0m     ) -> None:\n\u001b[0;32m    549\u001b[0m         \u001b[0mdata\u001b[0m\u001b[1;33m,\u001b[0m \u001b[0malgorithm\u001b[0m \u001b[1;33m=\u001b[0m \u001b[0m_calculate_digest_and_algorithm\u001b[0m\u001b[1;33m(\u001b[0m\u001b[0mdata\u001b[0m\u001b[1;33m,\u001b[0m \u001b[0malgorithm\u001b[0m\u001b[1;33m)\u001b[0m\u001b[1;33m\u001b[0m\u001b[1;33m\u001b[0m\u001b[0m\n\u001b[1;32m--> 550\u001b[1;33m         _rsa_sig_verify(\n\u001b[0m\u001b[0;32m    551\u001b[0m             \u001b[0mself\u001b[0m\u001b[1;33m.\u001b[0m\u001b[0m_backend\u001b[0m\u001b[1;33m,\u001b[0m \u001b[0mpadding\u001b[0m\u001b[1;33m,\u001b[0m \u001b[0malgorithm\u001b[0m\u001b[1;33m,\u001b[0m \u001b[0mself\u001b[0m\u001b[1;33m,\u001b[0m \u001b[0msignature\u001b[0m\u001b[1;33m,\u001b[0m \u001b[0mdata\u001b[0m\u001b[1;33m\u001b[0m\u001b[1;33m\u001b[0m\u001b[0m\n\u001b[0;32m    552\u001b[0m         )\n",
      "\u001b[1;32m~\\anaconda3\\envs\\envmt1\\lib\\site-packages\\cryptography\\hazmat\\backends\\openssl\\rsa.py\u001b[0m in \u001b[0;36m_rsa_sig_verify\u001b[1;34m(backend, padding, algorithm, public_key, signature, data)\u001b[0m\n\u001b[0;32m    323\u001b[0m     \u001b[1;32mif\u001b[0m \u001b[0mres\u001b[0m \u001b[1;33m==\u001b[0m \u001b[1;36m0\u001b[0m\u001b[1;33m:\u001b[0m\u001b[1;33m\u001b[0m\u001b[1;33m\u001b[0m\u001b[0m\n\u001b[0;32m    324\u001b[0m         \u001b[0mbackend\u001b[0m\u001b[1;33m.\u001b[0m\u001b[0m_consume_errors\u001b[0m\u001b[1;33m(\u001b[0m\u001b[1;33m)\u001b[0m\u001b[1;33m\u001b[0m\u001b[1;33m\u001b[0m\u001b[0m\n\u001b[1;32m--> 325\u001b[1;33m         \u001b[1;32mraise\u001b[0m \u001b[0mInvalidSignature\u001b[0m\u001b[1;33m\u001b[0m\u001b[1;33m\u001b[0m\u001b[0m\n\u001b[0m\u001b[0;32m    326\u001b[0m \u001b[1;33m\u001b[0m\u001b[0m\n\u001b[0;32m    327\u001b[0m \u001b[1;33m\u001b[0m\u001b[0m\n",
      "\u001b[1;31mInvalidSignature\u001b[0m: "
     ]
    }
   ],
   "source": [
    "#1)\n",
    "\n",
    "Students_ManipulatedData = json.dumps(json_data3).encode()\n",
    "correct_signature = b'YP\\xa4\\xf3\\xfd\\x0c\\x06\\xe7\\xd7\\xa6]\\x07\\xeey\\xf68\\xfb\\xa1op\\x96\\xd5\\xed6\\x19K\\xf8\\xbf\\x87\\x03\\xb2\\xd8\\xbbK\\x99\\x1c\\xa4+\\x91f\\xc5\\t\\xee\\x1f\\xd9\\xae i3|\\xd6\\xf8B\\x8e!\\xf4Da\\xc3\\x8b!r\\xf0\\xb1K\\xbf[\\x18\\xd2\\x8b\\xf9I\\xd8PX\\xf6\\xec\\xf4\\xbc9\\xda\\xdc\\xf2\\x8c\\x14\\xb0\\xd7\\x99! 7\\xd3\\x1d\\x92F\\x1e\\xa2\\xa8\\xb1\\x02\\\\\\x00\\xd2\\x8d\\xb0\\xc2\\xb3\\xbahq\\xf0\\x9fF\\xb4Cn?<\\x81I\\x1d\\xf8\\xa72kpV9'\n",
    "\n",
    "#Below is the same thing done in the above code to get the public key\n",
    "with open(\"C:\\\\Users\\\\desai\\\\Downloads\\\\arjuna_bc_book\\\\hands-on-blockchain-for-python-developers\\\\chapter_01\\\\nelsonkey.pub\", \"rb\") as key_file:\n",
    "    public_key = serialization.load_pem_public_key(\n",
    "        key_file.read(),\n",
    "        backend=default_backend())\n",
    "\n",
    "public_key.verify(\n",
    " correct_signature,\n",
    " Students_ManipulatedData,\n",
    " padding.PSS(mgf=padding.MGF1(hashes.SHA256()),\n",
    "                salt_length=padding.PSS.MAX_LENGTH),\n",
    "    hashes.SHA256())"
   ]
  },
  {
   "cell_type": "code",
   "execution_count": 25,
   "id": "9453fcc3",
   "metadata": {},
   "outputs": [
    {
     "ename": "InvalidSignature",
     "evalue": "",
     "output_type": "error",
     "traceback": [
      "\u001b[1;31m---------------------------------------------------------------------------\u001b[0m",
      "\u001b[1;31mInvalidSignature\u001b[0m                          Traceback (most recent call last)",
      "\u001b[1;32m~\\AppData\\Local\\Temp/ipykernel_2768/2211049966.py\u001b[0m in \u001b[0;36m<module>\u001b[1;34m\u001b[0m\n\u001b[0;32m     10\u001b[0m         backend=default_backend())\n\u001b[0;32m     11\u001b[0m \u001b[1;33m\u001b[0m\u001b[0m\n\u001b[1;32m---> 12\u001b[1;33m public_key.verify(\n\u001b[0m\u001b[0;32m     13\u001b[0m  \u001b[0mfake_signature\u001b[0m\u001b[1;33m,\u001b[0m\u001b[1;33m\u001b[0m\u001b[1;33m\u001b[0m\u001b[0m\n\u001b[0;32m     14\u001b[0m  \u001b[0mStudents_ManipulatedData\u001b[0m\u001b[1;33m,\u001b[0m\u001b[1;33m\u001b[0m\u001b[1;33m\u001b[0m\u001b[0m\n",
      "\u001b[1;32m~\\anaconda3\\envs\\envmt1\\lib\\site-packages\\cryptography\\hazmat\\backends\\openssl\\rsa.py\u001b[0m in \u001b[0;36mverify\u001b[1;34m(self, signature, data, padding, algorithm)\u001b[0m\n\u001b[0;32m    548\u001b[0m     ) -> None:\n\u001b[0;32m    549\u001b[0m         \u001b[0mdata\u001b[0m\u001b[1;33m,\u001b[0m \u001b[0malgorithm\u001b[0m \u001b[1;33m=\u001b[0m \u001b[0m_calculate_digest_and_algorithm\u001b[0m\u001b[1;33m(\u001b[0m\u001b[0mdata\u001b[0m\u001b[1;33m,\u001b[0m \u001b[0malgorithm\u001b[0m\u001b[1;33m)\u001b[0m\u001b[1;33m\u001b[0m\u001b[1;33m\u001b[0m\u001b[0m\n\u001b[1;32m--> 550\u001b[1;33m         _rsa_sig_verify(\n\u001b[0m\u001b[0;32m    551\u001b[0m             \u001b[0mself\u001b[0m\u001b[1;33m.\u001b[0m\u001b[0m_backend\u001b[0m\u001b[1;33m,\u001b[0m \u001b[0mpadding\u001b[0m\u001b[1;33m,\u001b[0m \u001b[0malgorithm\u001b[0m\u001b[1;33m,\u001b[0m \u001b[0mself\u001b[0m\u001b[1;33m,\u001b[0m \u001b[0msignature\u001b[0m\u001b[1;33m,\u001b[0m \u001b[0mdata\u001b[0m\u001b[1;33m\u001b[0m\u001b[1;33m\u001b[0m\u001b[0m\n\u001b[0;32m    552\u001b[0m         )\n",
      "\u001b[1;32m~\\anaconda3\\envs\\envmt1\\lib\\site-packages\\cryptography\\hazmat\\backends\\openssl\\rsa.py\u001b[0m in \u001b[0;36m_rsa_sig_verify\u001b[1;34m(backend, padding, algorithm, public_key, signature, data)\u001b[0m\n\u001b[0;32m    323\u001b[0m     \u001b[1;32mif\u001b[0m \u001b[0mres\u001b[0m \u001b[1;33m==\u001b[0m \u001b[1;36m0\u001b[0m\u001b[1;33m:\u001b[0m\u001b[1;33m\u001b[0m\u001b[1;33m\u001b[0m\u001b[0m\n\u001b[0;32m    324\u001b[0m         \u001b[0mbackend\u001b[0m\u001b[1;33m.\u001b[0m\u001b[0m_consume_errors\u001b[0m\u001b[1;33m(\u001b[0m\u001b[1;33m)\u001b[0m\u001b[1;33m\u001b[0m\u001b[1;33m\u001b[0m\u001b[0m\n\u001b[1;32m--> 325\u001b[1;33m         \u001b[1;32mraise\u001b[0m \u001b[0mInvalidSignature\u001b[0m\u001b[1;33m\u001b[0m\u001b[1;33m\u001b[0m\u001b[0m\n\u001b[0m\u001b[0;32m    326\u001b[0m \u001b[1;33m\u001b[0m\u001b[0m\n\u001b[0;32m    327\u001b[0m \u001b[1;33m\u001b[0m\u001b[0m\n",
      "\u001b[1;31mInvalidSignature\u001b[0m: "
     ]
    }
   ],
   "source": [
    "#2)\n",
    "\n",
    "Students_ManipulatedData = json.dumps(json_data3).encode()\n",
    "fake_signature = b'Fake Signature'\n",
    "\n",
    "#Below is the same thing done in the above code to get the public key\n",
    "with open(\"C:\\\\Users\\\\desai\\\\Downloads\\\\arjuna_bc_book\\\\hands-on-blockchain-for-python-developers\\\\chapter_01\\\\nelsonkey.pub\", \"rb\") as key_file:\n",
    "    public_key = serialization.load_pem_public_key(\n",
    "        key_file.read(),\n",
    "        backend=default_backend())\n",
    "\n",
    "public_key.verify(\n",
    " fake_signature,\n",
    " Students_ManipulatedData,\n",
    " padding.PSS(mgf=padding.MGF1(hashes.SHA256()),\n",
    "                salt_length=padding.PSS.MAX_LENGTH),\n",
    "    hashes.SHA256())"
   ]
  },
  {
   "cell_type": "markdown",
   "id": "2f6f4011",
   "metadata": {},
   "source": [
    "## Verifying whether the data was originally by the original user\n",
    "\n",
    "#### Any person with the public key can verify whether the signature & the original data match i.e., they can check if the data was originally written by the original user"
   ]
  },
  {
   "cell_type": "code",
   "execution_count": 29,
   "id": "24376b63",
   "metadata": {},
   "outputs": [],
   "source": [
    "def fetch_public_key(user):\n",
    "    with open(\"C:\\\\Users\\\\desai\\\\Downloads\\\\arjuna_bc_book\\\\hands-on-blockchain-for-python-developers\\\\chapter_01\\\\\" + user.decode('ascii') + \"key.pub\", \"rb\") as key_file:\n",
    "        public_key = serialization.load_pem_public_key(key_file.read(),\n",
    "                                                       backend=default_backend())\n",
    "    return public_key\n",
    "\n",
    "# Data coming from user\n",
    "Students_OrigData = json.dumps(json_data).encode()\n",
    "\n",
    "# Signature coming from user\n",
    "signature = b'YP\\xa4\\xf3\\xfd\\x0c\\x06\\xe7\\xd7\\xa6]\\x07\\xeey\\xf68\\xfb\\xa1op\\x96\\xd5\\xed6\\x19K\\xf8\\xbf\\x87\\x03\\xb2\\xd8\\xbbK\\x99\\x1c\\xa4+\\x91f\\xc5\\t\\xee\\x1f\\xd9\\xae i3|\\xd6\\xf8B\\x8e!\\xf4Da\\xc3\\x8b!r\\xf0\\xb1K\\xbf[\\x18\\xd2\\x8b\\xf9I\\xd8PX\\xf6\\xec\\xf4\\xbc9\\xda\\xdc\\xf2\\x8c\\x14\\xb0\\xd7\\x99! 7\\xd3\\x1d\\x92F\\x1e\\xa2\\xa8\\xb1\\x02\\\\\\x00\\xd2\\x8d\\xb0\\xc2\\xb3\\xbahq\\xf0\\x9fF\\xb4Cn?<\\x81I\\x1d\\xf8\\xa72kpV9'\n",
    "\n",
    "user = b\"nelson\"\n",
    "# fetch public key from Nelson\n",
    "public_key = fetch_public_key(user)\n",
    "\n",
    "#verify the message like before\n",
    "public_key.verify(\n",
    "    signature,\n",
    "    Students_OrigData,\n",
    "    padding.PSS(mgf=padding.MGF1(hashes.SHA256()),\n",
    "                salt_length=padding.PSS.MAX_LENGTH),\n",
    "    hashes.SHA256())"
   ]
  },
  {
   "cell_type": "markdown",
   "id": "8db65a26",
   "metadata": {},
   "source": [
    "## Data retreival for analysis"
   ]
  },
  {
   "cell_type": "code",
   "execution_count": 27,
   "id": "1daa1c4d",
   "metadata": {},
   "outputs": [
    {
     "name": "stdout",
     "output_type": "stream",
     "text": [
      "Enter the block id number for which you want to retrive the data: 3\n",
      "   PRN Math Stats Python   R  DL  ML Percentage\n",
      "9    9   97    95     97  97  97  97         96\n",
      "20  20   95    95     95  94  94  94         94\n",
      "26  26   90    93     93  93  93  93         93\n"
     ]
    }
   ],
   "source": [
    "block_id= int(input(\"Enter the block id number for which you want to retrive the data: \"))\n",
    "#Enter 1 for genesis block\n",
    "#Enter 2 for Students block\n",
    "#Enter 3 for Teachers block\n",
    "#Enter 4 for Research block\n",
    "#Enter 5 for Admin block\n",
    "\n",
    "for block in bc.chain:\n",
    "    if block['id']==block_id:\n",
    "        block_json= block['data']\n",
    "        df2 = pd.DataFrame.from_dict(block_json, orient='index')\n",
    "        print(df2)"
   ]
  },
  {
   "cell_type": "code",
   "execution_count": 28,
   "id": "6692dcee",
   "metadata": {},
   "outputs": [
    {
     "data": {
      "text/html": [
       "<div>\n",
       "<style scoped>\n",
       "    .dataframe tbody tr th:only-of-type {\n",
       "        vertical-align: middle;\n",
       "    }\n",
       "\n",
       "    .dataframe tbody tr th {\n",
       "        vertical-align: top;\n",
       "    }\n",
       "\n",
       "    .dataframe thead th {\n",
       "        text-align: right;\n",
       "    }\n",
       "</style>\n",
       "<table border=\"1\" class=\"dataframe\">\n",
       "  <thead>\n",
       "    <tr style=\"text-align: right;\">\n",
       "      <th></th>\n",
       "      <th>PRN</th>\n",
       "      <th>Math</th>\n",
       "      <th>Stats</th>\n",
       "      <th>Python</th>\n",
       "      <th>R</th>\n",
       "      <th>DL</th>\n",
       "      <th>ML</th>\n",
       "      <th>Percentage</th>\n",
       "    </tr>\n",
       "  </thead>\n",
       "  <tbody>\n",
       "    <tr>\n",
       "      <th>9</th>\n",
       "      <td>9</td>\n",
       "      <td>97</td>\n",
       "      <td>95</td>\n",
       "      <td>97</td>\n",
       "      <td>97</td>\n",
       "      <td>97</td>\n",
       "      <td>97</td>\n",
       "      <td>96</td>\n",
       "    </tr>\n",
       "    <tr>\n",
       "      <th>20</th>\n",
       "      <td>20</td>\n",
       "      <td>95</td>\n",
       "      <td>95</td>\n",
       "      <td>95</td>\n",
       "      <td>94</td>\n",
       "      <td>94</td>\n",
       "      <td>94</td>\n",
       "      <td>94</td>\n",
       "    </tr>\n",
       "    <tr>\n",
       "      <th>26</th>\n",
       "      <td>26</td>\n",
       "      <td>90</td>\n",
       "      <td>93</td>\n",
       "      <td>93</td>\n",
       "      <td>93</td>\n",
       "      <td>93</td>\n",
       "      <td>93</td>\n",
       "      <td>93</td>\n",
       "    </tr>\n",
       "  </tbody>\n",
       "</table>\n",
       "</div>"
      ],
      "text/plain": [
       "   PRN Math Stats Python   R  DL  ML Percentage\n",
       "9    9   97    95     97  97  97  97         96\n",
       "20  20   95    95     95  94  94  94         94\n",
       "26  26   90    93     93  93  93  93         93"
      ]
     },
     "execution_count": 28,
     "metadata": {},
     "output_type": "execute_result"
    }
   ],
   "source": [
    "df2.head()"
   ]
  },
  {
   "cell_type": "code",
   "execution_count": null,
   "id": "e6da8767",
   "metadata": {},
   "outputs": [],
   "source": []
  }
 ],
 "metadata": {
  "kernelspec": {
   "display_name": "Python 3 (ipykernel)",
   "language": "python",
   "name": "python3"
  },
  "language_info": {
   "codemirror_mode": {
    "name": "ipython",
    "version": 3
   },
   "file_extension": ".py",
   "mimetype": "text/x-python",
   "name": "python",
   "nbconvert_exporter": "python",
   "pygments_lexer": "ipython3",
   "version": "3.9.7"
  }
 },
 "nbformat": 4,
 "nbformat_minor": 5
}
